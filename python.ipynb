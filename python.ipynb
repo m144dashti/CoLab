{
  "nbformat": 4,
  "nbformat_minor": 0,
  "metadata": {
    "colab": {
      "name": "python.ipynb",
      "provenance": [],
      "collapsed_sections": [],
      "authorship_tag": "ABX9TyOfdLwbC9tv3HT12dYYDWLl",
      "include_colab_link": true
    },
    "kernelspec": {
      "name": "python3",
      "display_name": "Python 3"
    },
    "language_info": {
      "name": "python"
    }
  },
  "cells": [
    {
      "cell_type": "markdown",
      "metadata": {
        "id": "view-in-github",
        "colab_type": "text"
      },
      "source": [
        "<a href=\"https://colab.research.google.com/github/m144dashti/CoLab/blob/main/python.ipynb\" target=\"_parent\"><img src=\"https://colab.research.google.com/assets/colab-badge.svg\" alt=\"Open In Colab\"/></a>"
      ]
    },
    {
      "cell_type": "code",
      "metadata": {
        "colab": {
          "base_uri": "https://localhost:8080/"
        },
        "id": "1nJ9ZuEddJpU",
        "outputId": "e0ef42a5-caa8-4d65-baf6-75143c3dcc17"
      },
      "source": [
        "print(\"Hello\")"
      ],
      "execution_count": 1,
      "outputs": [
        {
          "output_type": "stream",
          "name": "stdout",
          "text": [
            "Hello\n"
          ]
        }
      ]
    },
    {
      "cell_type": "code",
      "metadata": {
        "id": "IY5CBGK3e70P",
        "outputId": "185fdef7-56d6-486d-c637-6a364845da5b",
        "colab": {
          "base_uri": "https://localhost:8080/"
        }
      },
      "source": [
        "!git"
      ],
      "execution_count": 2,
      "outputs": [
        {
          "output_type": "stream",
          "name": "stdout",
          "text": [
            "usage: git [--version] [--help] [-C <path>] [-c <name>=<value>]\n",
            "           [--exec-path[=<path>]] [--html-path] [--man-path] [--info-path]\n",
            "           [-p | --paginate | --no-pager] [--no-replace-objects] [--bare]\n",
            "           [--git-dir=<path>] [--work-tree=<path>] [--namespace=<name>]\n",
            "           <command> [<args>]\n",
            "\n",
            "These are common Git commands used in various situations:\n",
            "\n",
            "start a working area (see also: git help tutorial)\n",
            "   clone      Clone a repository into a new directory\n",
            "   init       Create an empty Git repository or reinitialize an existing one\n",
            "\n",
            "work on the current change (see also: git help everyday)\n",
            "   add        Add file contents to the index\n",
            "   mv         Move or rename a file, a directory, or a symlink\n",
            "   reset      Reset current HEAD to the specified state\n",
            "   rm         Remove files from the working tree and from the index\n",
            "\n",
            "examine the history and state (see also: git help revisions)\n",
            "   bisect     Use binary search to find the commit that introduced a bug\n",
            "   grep       Print lines matching a pattern\n",
            "   log        Show commit logs\n",
            "   show       Show various types of objects\n",
            "   status     Show the working tree status\n",
            "\n",
            "grow, mark and tweak your common history\n",
            "   branch     List, create, or delete branches\n",
            "   checkout   Switch branches or restore working tree files\n",
            "   commit     Record changes to the repository\n",
            "   diff       Show changes between commits, commit and working tree, etc\n",
            "   merge      Join two or more development histories together\n",
            "   rebase     Reapply commits on top of another base tip\n",
            "   tag        Create, list, delete or verify a tag object signed with GPG\n",
            "\n",
            "collaborate (see also: git help workflows)\n",
            "   fetch      Download objects and refs from another repository\n",
            "   pull       Fetch from and integrate with another repository or a local branch\n",
            "   push       Update remote refs along with associated objects\n",
            "\n",
            "'git help -a' and 'git help -g' list available subcommands and some\n",
            "concept guides. See 'git help <command>' or 'git help <concept>'\n",
            "to read about a specific subcommand or concept.\n"
          ]
        }
      ]
    },
    {
      "cell_type": "code",
      "metadata": {
        "id": "TwRYuScCk8eO"
      },
      "source": [
        ""
      ],
      "execution_count": null,
      "outputs": []
    }
  ]
}